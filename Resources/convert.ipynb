{
 "cells": [
  {
   "cell_type": "code",
   "execution_count": 1,
   "metadata": {},
   "outputs": [],
   "source": [
    "import os\n",
    "import pandas as pd\n",
    "from sqlalchemy import create_engine"
   ]
  },
  {
   "cell_type": "code",
   "execution_count": 5,
   "metadata": {},
   "outputs": [
    {
     "name": "stdout",
     "output_type": "stream",
     "text": [
      "Table 'no-symbols' has been written to the database.\n",
      "All CSV files have been imported into the SQLite database.\n"
     ]
    }
   ],
   "source": [
    "# Create a SQLite engine that stores data in the local directory\n",
    "engine = create_engine('sqlite:///data.sqlite')\n",
    "\n",
    "# Get a list of all CSV files in the current directory\n",
    "csv_files = [f for f in os.listdir('.') if f.endswith('.csv')]\n",
    "\n",
    "# Iterate over each CSV file\n",
    "for csv_file in csv_files:\n",
    "    # Read the CSV file into a pandas DataFrame\n",
    "    df = pd.read_csv(csv_file)\n",
    "    \n",
    "    # Use the CSV filename without extension as the table name\n",
    "    table_name = os.path.splitext(csv_file)[0]\n",
    "    \n",
    "    # Write the data to the SQLite database\n",
    "    df.to_sql(table_name, engine, index=False, if_exists='replace', )\n",
    "    \n",
    "    print(f\"Table '{table_name}' has been written to the database.\")\n",
    "print(\"All CSV files have been imported into the SQLite database.\")"
   ]
  }
 ],
 "metadata": {
  "kernelspec": {
   "display_name": "base",
   "language": "python",
   "name": "python3"
  },
  "language_info": {
   "codemirror_mode": {
    "name": "ipython",
    "version": 3
   },
   "file_extension": ".py",
   "mimetype": "text/x-python",
   "name": "python",
   "nbconvert_exporter": "python",
   "pygments_lexer": "ipython3",
   "version": "3.11.4"
  }
 },
 "nbformat": 4,
 "nbformat_minor": 2
}

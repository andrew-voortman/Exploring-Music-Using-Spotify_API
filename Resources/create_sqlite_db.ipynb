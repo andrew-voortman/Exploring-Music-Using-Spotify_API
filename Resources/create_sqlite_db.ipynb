{
 "cells": [
  {
   "cell_type": "markdown",
   "id": "arctic-screw",
   "metadata": {},
   "source": [
    "## Import Packages"
   ]
  },
  {
   "cell_type": "code",
   "execution_count": 1,
   "id": "limiting-vacuum",
   "metadata": {
    "tags": []
   },
   "outputs": [],
   "source": [
    "import sqlite3\n",
    "from sqlite3 import Error\n",
    "database_file_location = \"../music.db\""
   ]
  },
  {
   "cell_type": "markdown",
   "id": "possible-boston",
   "metadata": {},
   "source": [
    "## Create Database File"
   ]
  },
  {
   "cell_type": "code",
   "execution_count": 2,
   "id": "gorgeous-privacy",
   "metadata": {},
   "outputs": [],
   "source": [
    "def create_connection(db_file):\n",
    "    \"\"\" create a database connection to a SQLite database \"\"\"\n",
    "    conn = None\n",
    "    try:\n",
    "        conn = sqlite3.connect(db_file)\n",
    "        print(sqlite3.version)\n",
    "    except Error as e:\n",
    "        print(e)\n",
    "    finally:\n",
    "        if conn:\n",
    "            conn.close()"
   ]
  },
  {
   "cell_type": "code",
   "execution_count": 3,
   "id": "assumed-findings",
   "metadata": {},
   "outputs": [
    {
     "name": "stdout",
     "output_type": "stream",
     "text": [
      "2.6.0\n"
     ]
    }
   ],
   "source": [
    "if __name__ == '__main__':\n",
    "    create_connection(database_file_location)"
   ]
  },
  {
   "cell_type": "markdown",
   "id": "portable-verification",
   "metadata": {},
   "source": [
    "## Create Tables"
   ]
  },
  {
   "cell_type": "code",
   "execution_count": 4,
   "id": "resistant-picture",
   "metadata": {},
   "outputs": [],
   "source": [
    "\n",
    "\n",
    "def create_connection(db_file):\n",
    "    \"\"\" create a database connection to the SQLite database\n",
    "        specified by db_file\n",
    "    :param db_file: database file\n",
    "    :return: Connection object or None\n",
    "    \"\"\"\n",
    "    conn = None\n",
    "    try:\n",
    "        conn = sqlite3.connect(db_file)\n",
    "        return conn\n",
    "    except Error as e:\n",
    "        print(e)\n",
    "\n",
    "    return conn"
   ]
  },
  {
   "cell_type": "code",
   "execution_count": 5,
   "id": "earned-canadian",
   "metadata": {},
   "outputs": [],
   "source": [
    "def create_table(conn, create_table_sql):\n",
    "    \"\"\" create a table from the create_table_sql statement\n",
    "    :param conn: Connection object\n",
    "    :param create_table_sql: a CREATE TABLE statement\n",
    "    :return:\n",
    "    \"\"\"\n",
    "    try:\n",
    "        c = conn.cursor()\n",
    "        c.execute(create_table_sql)\n",
    "    except Error as e:\n",
    "        print(e)"
   ]
  },
  {
   "cell_type": "code",
   "execution_count": 6,
   "id": "usual-immigration",
   "metadata": {},
   "outputs": [],
   "source": [
    "#col1,country,trackname,artistname,albumname,popularity,date,markets,danceability,acousticness,duration,energy,instrumentalness,key,liveness,loudness,mode,speechiness,tempo,tsignature,positiveness\n",
    "\n",
    "def main():\n",
    "    database = database_file_location\n",
    "\n",
    "    sql_create_table = \"\"\" CREATE TABLE IF NOT EXISTS topmusic (\n",
    "                                        col1 integer PRIMARY KEY NOT NULL,\n",
    "                                        country text,\n",
    "                                        trackname text,\n",
    "                                        artistname text,\n",
    "                                        albumname text,\n",
    "                                        popularity integer,\n",
    "                                        date date,\n",
    "                                        markets text,\n",
    "                                        danceability real,\n",
    "                                        acousticiness real,\n",
    "                                        duration integer,\n",
    "                                        energy real,\n",
    "                                        instrumentalness integer,\n",
    "                                        key integer,\n",
    "                                        liveness real,\n",
    "                                        loudness real,\n",
    "                                        mode integer,\n",
    "                                        speechiness real,\n",
    "                                        tempo real,\n",
    "                                        tsignature integer,\n",
    "                                        positiveness real     \n",
    "                                    ); \"\"\"\n",
    "\n",
    "    # create a database connection\n",
    "    conn = create_connection(database)\n",
    "\n",
    "    # create tables\n",
    "    if conn is not None:\n",
    "        # create projects table\n",
    "        create_table(conn, sql_create_table)\n",
    "\n",
    "    else:\n",
    "        print(\"Error! cannot create the database connection.\")\n"
   ]
  },
  {
   "cell_type": "code",
   "execution_count": 7,
   "id": "broken-vertex",
   "metadata": {},
   "outputs": [],
   "source": [
    "if __name__ == '__main__':\n",
    "    main()"
   ]
  },
  {
   "cell_type": "code",
   "execution_count": null,
   "id": "collect-laugh",
   "metadata": {},
   "outputs": [],
   "source": []
  },
  {
   "cell_type": "code",
   "execution_count": null,
   "id": "tamil-russia",
   "metadata": {},
   "outputs": [],
   "source": []
  }
 ],
 "metadata": {
  "kernelspec": {
   "display_name": "base",
   "language": "python",
   "name": "python3"
  },
  "language_info": {
   "codemirror_mode": {
    "name": "ipython",
    "version": 3
   },
   "file_extension": ".py",
   "mimetype": "text/x-python",
   "name": "python",
   "nbconvert_exporter": "python",
   "pygments_lexer": "ipython3",
   "version": "3.11.4"
  }
 },
 "nbformat": 4,
 "nbformat_minor": 5
}

{
 "cells": [
  {
   "cell_type": "code",
   "execution_count": 7,
   "metadata": {},
   "outputs": [],
   "source": [
    "import numpy as np\n",
    "import pandas as pd\n",
    "import os"
   ]
  },
  {
   "cell_type": "code",
   "execution_count": 8,
   "metadata": {},
   "outputs": [
    {
     "data": {
      "text/html": [
       "<div>\n",
       "<style scoped>\n",
       "    .dataframe tbody tr th:only-of-type {\n",
       "        vertical-align: middle;\n",
       "    }\n",
       "\n",
       "    .dataframe tbody tr th {\n",
       "        vertical-align: top;\n",
       "    }\n",
       "\n",
       "    .dataframe thead th {\n",
       "        text-align: right;\n",
       "    }\n",
       "</style>\n",
       "<table border=\"1\" class=\"dataframe\">\n",
       "  <thead>\n",
       "    <tr style=\"text-align: right;\">\n",
       "      <th></th>\n",
       "      <th>Index</th>\n",
       "      <th>Country</th>\n",
       "      <th>Track Name</th>\n",
       "      <th>Artist Name</th>\n",
       "      <th>Album Name</th>\n",
       "      <th>Popularity</th>\n",
       "      <th>Date</th>\n",
       "      <th>Markets</th>\n",
       "      <th>Danceability</th>\n",
       "      <th>Acousticness</th>\n",
       "      <th>...</th>\n",
       "      <th>Energy</th>\n",
       "      <th>Instrumentalness</th>\n",
       "      <th>Key</th>\n",
       "      <th>Liveness</th>\n",
       "      <th>Loudness</th>\n",
       "      <th>Mode</th>\n",
       "      <th>Speechiness</th>\n",
       "      <th>Tempo</th>\n",
       "      <th>TSignature</th>\n",
       "      <th>Positiveness</th>\n",
       "    </tr>\n",
       "  </thead>\n",
       "  <tbody>\n",
       "    <tr>\n",
       "      <th>0</th>\n",
       "      <td>0</td>\n",
       "      <td>Global</td>\n",
       "      <td>Standing Next to You</td>\n",
       "      <td>Jung Kook</td>\n",
       "      <td>GOLDEN</td>\n",
       "      <td>91</td>\n",
       "      <td>11/3/2023</td>\n",
       "      <td>AR</td>\n",
       "      <td>0.711</td>\n",
       "      <td>0.0447</td>\n",
       "      <td>...</td>\n",
       "      <td>0.809</td>\n",
       "      <td>0.000000</td>\n",
       "      <td>2</td>\n",
       "      <td>0.3390</td>\n",
       "      <td>-4.389</td>\n",
       "      <td>0</td>\n",
       "      <td>0.0955</td>\n",
       "      <td>106.017</td>\n",
       "      <td>4</td>\n",
       "      <td>0.816</td>\n",
       "    </tr>\n",
       "    <tr>\n",
       "      <th>1</th>\n",
       "      <td>1</td>\n",
       "      <td>Global</td>\n",
       "      <td>greedy</td>\n",
       "      <td>Tate McRae</td>\n",
       "      <td>greedy</td>\n",
       "      <td>100</td>\n",
       "      <td>9/15/2023</td>\n",
       "      <td>AR</td>\n",
       "      <td>0.750</td>\n",
       "      <td>0.2560</td>\n",
       "      <td>...</td>\n",
       "      <td>0.733</td>\n",
       "      <td>0.000000</td>\n",
       "      <td>6</td>\n",
       "      <td>0.1140</td>\n",
       "      <td>-3.180</td>\n",
       "      <td>0</td>\n",
       "      <td>0.0319</td>\n",
       "      <td>111.018</td>\n",
       "      <td>1</td>\n",
       "      <td>0.844</td>\n",
       "    </tr>\n",
       "    <tr>\n",
       "      <th>2</th>\n",
       "      <td>2</td>\n",
       "      <td>Global</td>\n",
       "      <td>Seven (feat. Latto) (Explicit Ver.)</td>\n",
       "      <td>Jung Kook</td>\n",
       "      <td>GOLDEN</td>\n",
       "      <td>82</td>\n",
       "      <td>11/3/2023</td>\n",
       "      <td>AR</td>\n",
       "      <td>0.790</td>\n",
       "      <td>0.3120</td>\n",
       "      <td>...</td>\n",
       "      <td>0.831</td>\n",
       "      <td>0.000000</td>\n",
       "      <td>11</td>\n",
       "      <td>0.0797</td>\n",
       "      <td>-4.185</td>\n",
       "      <td>1</td>\n",
       "      <td>0.0440</td>\n",
       "      <td>124.987</td>\n",
       "      <td>4</td>\n",
       "      <td>0.872</td>\n",
       "    </tr>\n",
       "    <tr>\n",
       "      <th>3</th>\n",
       "      <td>3</td>\n",
       "      <td>Global</td>\n",
       "      <td>Is It Over Now? (Taylor's Version) (From The V...</td>\n",
       "      <td>Taylor Swift</td>\n",
       "      <td>1989 (Taylor's Version)</td>\n",
       "      <td>93</td>\n",
       "      <td>10/26/2023</td>\n",
       "      <td>AR</td>\n",
       "      <td>0.596</td>\n",
       "      <td>0.0504</td>\n",
       "      <td>...</td>\n",
       "      <td>0.658</td>\n",
       "      <td>0.000000</td>\n",
       "      <td>0</td>\n",
       "      <td>0.1270</td>\n",
       "      <td>-7.346</td>\n",
       "      <td>1</td>\n",
       "      <td>0.0360</td>\n",
       "      <td>100.012</td>\n",
       "      <td>4</td>\n",
       "      <td>0.176</td>\n",
       "    </tr>\n",
       "    <tr>\n",
       "      <th>4</th>\n",
       "      <td>4</td>\n",
       "      <td>Global</td>\n",
       "      <td>PERRO NEGRO</td>\n",
       "      <td>Bad Bunny</td>\n",
       "      <td>nadie sabe lo que va a pasar mañana</td>\n",
       "      <td>97</td>\n",
       "      <td>10/13/2023</td>\n",
       "      <td>AR</td>\n",
       "      <td>0.911</td>\n",
       "      <td>0.0887</td>\n",
       "      <td>...</td>\n",
       "      <td>0.778</td>\n",
       "      <td>0.000022</td>\n",
       "      <td>5</td>\n",
       "      <td>0.1790</td>\n",
       "      <td>-2.248</td>\n",
       "      <td>1</td>\n",
       "      <td>0.2620</td>\n",
       "      <td>96.057</td>\n",
       "      <td>4</td>\n",
       "      <td>0.345</td>\n",
       "    </tr>\n",
       "  </tbody>\n",
       "</table>\n",
       "<p>5 rows × 21 columns</p>\n",
       "</div>"
      ],
      "text/plain": [
       "   Index Country                                         Track Name  \\\n",
       "0      0  Global                               Standing Next to You   \n",
       "1      1  Global                                             greedy   \n",
       "2      2  Global                Seven (feat. Latto) (Explicit Ver.)   \n",
       "3      3  Global  Is It Over Now? (Taylor's Version) (From The V...   \n",
       "4      4  Global                                        PERRO NEGRO   \n",
       "\n",
       "    Artist Name                           Album Name  Popularity        Date  \\\n",
       "0     Jung Kook                               GOLDEN          91   11/3/2023   \n",
       "1    Tate McRae                               greedy         100   9/15/2023   \n",
       "2     Jung Kook                               GOLDEN          82   11/3/2023   \n",
       "3  Taylor Swift              1989 (Taylor's Version)          93  10/26/2023   \n",
       "4     Bad Bunny  nadie sabe lo que va a pasar mañana          97  10/13/2023   \n",
       "\n",
       "  Markets  Danceability  Acousticness  ...  Energy  Instrumentalness  Key  \\\n",
       "0      AR         0.711        0.0447  ...   0.809          0.000000    2   \n",
       "1      AR         0.750        0.2560  ...   0.733          0.000000    6   \n",
       "2      AR         0.790        0.3120  ...   0.831          0.000000   11   \n",
       "3      AR         0.596        0.0504  ...   0.658          0.000000    0   \n",
       "4      AR         0.911        0.0887  ...   0.778          0.000022    5   \n",
       "\n",
       "   Liveness  Loudness  Mode  Speechiness    Tempo  TSignature  Positiveness  \n",
       "0    0.3390    -4.389     0       0.0955  106.017           4         0.816  \n",
       "1    0.1140    -3.180     0       0.0319  111.018           1         0.844  \n",
       "2    0.0797    -4.185     1       0.0440  124.987           4         0.872  \n",
       "3    0.1270    -7.346     1       0.0360  100.012           4         0.176  \n",
       "4    0.1790    -2.248     1       0.2620   96.057           4         0.345  \n",
       "\n",
       "[5 rows x 21 columns]"
      ]
     },
     "execution_count": 8,
     "metadata": {},
     "output_type": "execute_result"
    }
   ],
   "source": [
    "# Specify the path to your CSV file\n",
    "file_path = '../Exploring-Music-Using-Spotify_API/Resources/no-symbols.csv'\n",
    "\n",
    "# Use pd.read_csv() to read the CSV file into a Pandas DataFrame\n",
    "music = pd.read_csv(file_path)\n",
    "# If columns are separated by a semicolon\n",
    "music.head()"
   ]
  },
  {
   "cell_type": "code",
   "execution_count": 9,
   "metadata": {},
   "outputs": [
    {
     "name": "stdout",
     "output_type": "stream",
     "text": [
      "<class 'pandas.core.frame.DataFrame'>\n",
      "RangeIndex: 2862 entries, 0 to 2861\n",
      "Data columns (total 21 columns):\n",
      " #   Column            Non-Null Count  Dtype  \n",
      "---  ------            --------------  -----  \n",
      " 0   Index             2862 non-null   int64  \n",
      " 1   Country           2862 non-null   object \n",
      " 2   Track Name        2856 non-null   object \n",
      " 3   Artist Name       2856 non-null   object \n",
      " 4   Album Name        2856 non-null   object \n",
      " 5   Popularity        2862 non-null   int64  \n",
      " 6   Date              2862 non-null   object \n",
      " 7   Markets           2856 non-null   object \n",
      " 8   Danceability      2862 non-null   float64\n",
      " 9   Acousticness      2862 non-null   float64\n",
      " 10  duration          2862 non-null   int64  \n",
      " 11  Energy            2862 non-null   float64\n",
      " 12  Instrumentalness  2862 non-null   float64\n",
      " 13  Key               2862 non-null   int64  \n",
      " 14  Liveness          2862 non-null   float64\n",
      " 15  Loudness          2862 non-null   float64\n",
      " 16  Mode              2862 non-null   int64  \n",
      " 17  Speechiness       2862 non-null   float64\n",
      " 18  Tempo             2862 non-null   float64\n",
      " 19  TSignature        2862 non-null   int64  \n",
      " 20  Positiveness      2862 non-null   float64\n",
      "dtypes: float64(9), int64(6), object(6)\n",
      "memory usage: 469.7+ KB\n"
     ]
    }
   ],
   "source": [
    "music.info()"
   ]
  },
  {
   "cell_type": "code",
   "execution_count": 10,
   "metadata": {},
   "outputs": [],
   "source": [
    "json_data = music.to_json(orient='records')\n",
    "\n",
    "# If you want to save the JSON to a file\n",
    "json_file_path = 'output.json'\n",
    "with open(json_file_path, 'w') as json_file:\n",
    "    json_file.write(json_data)"
   ]
  },
  {
   "cell_type": "code",
   "execution_count": 11,
   "metadata": {},
   "outputs": [],
   "source": [
    "import matplotlib.pyplot as plt\n",
    "import seaborn as sns"
   ]
  },
  {
   "cell_type": "code",
   "execution_count": 12,
   "metadata": {},
   "outputs": [
    {
     "data": {
      "text/html": [
       "<div>\n",
       "<style scoped>\n",
       "    .dataframe tbody tr th:only-of-type {\n",
       "        vertical-align: middle;\n",
       "    }\n",
       "\n",
       "    .dataframe tbody tr th {\n",
       "        vertical-align: top;\n",
       "    }\n",
       "\n",
       "    .dataframe thead th {\n",
       "        text-align: right;\n",
       "    }\n",
       "</style>\n",
       "<table border=\"1\" class=\"dataframe\">\n",
       "  <thead>\n",
       "    <tr style=\"text-align: right;\">\n",
       "      <th></th>\n",
       "      <th>Index</th>\n",
       "      <th>Country</th>\n",
       "      <th>Track Name</th>\n",
       "      <th>Artist Name</th>\n",
       "      <th>Album Name</th>\n",
       "      <th>Popularity</th>\n",
       "      <th>Date</th>\n",
       "      <th>Markets</th>\n",
       "      <th>Danceability</th>\n",
       "      <th>Acousticness</th>\n",
       "      <th>...</th>\n",
       "      <th>Energy</th>\n",
       "      <th>Instrumentalness</th>\n",
       "      <th>Key</th>\n",
       "      <th>Liveness</th>\n",
       "      <th>Loudness</th>\n",
       "      <th>Mode</th>\n",
       "      <th>Speechiness</th>\n",
       "      <th>Tempo</th>\n",
       "      <th>TSignature</th>\n",
       "      <th>Positiveness</th>\n",
       "    </tr>\n",
       "  </thead>\n",
       "  <tbody>\n",
       "    <tr>\n",
       "      <th>0</th>\n",
       "      <td>0</td>\n",
       "      <td>Global</td>\n",
       "      <td>Standing Next to You</td>\n",
       "      <td>Jung Kook</td>\n",
       "      <td>GOLDEN</td>\n",
       "      <td>91</td>\n",
       "      <td>11/3/2023</td>\n",
       "      <td>AR</td>\n",
       "      <td>0.711</td>\n",
       "      <td>0.0447</td>\n",
       "      <td>...</td>\n",
       "      <td>0.809</td>\n",
       "      <td>0.000000</td>\n",
       "      <td>2</td>\n",
       "      <td>0.3390</td>\n",
       "      <td>-4.389</td>\n",
       "      <td>0</td>\n",
       "      <td>0.0955</td>\n",
       "      <td>106.017</td>\n",
       "      <td>4</td>\n",
       "      <td>0.816</td>\n",
       "    </tr>\n",
       "    <tr>\n",
       "      <th>1</th>\n",
       "      <td>1</td>\n",
       "      <td>Global</td>\n",
       "      <td>greedy</td>\n",
       "      <td>Tate McRae</td>\n",
       "      <td>greedy</td>\n",
       "      <td>100</td>\n",
       "      <td>9/15/2023</td>\n",
       "      <td>AR</td>\n",
       "      <td>0.750</td>\n",
       "      <td>0.2560</td>\n",
       "      <td>...</td>\n",
       "      <td>0.733</td>\n",
       "      <td>0.000000</td>\n",
       "      <td>6</td>\n",
       "      <td>0.1140</td>\n",
       "      <td>-3.180</td>\n",
       "      <td>0</td>\n",
       "      <td>0.0319</td>\n",
       "      <td>111.018</td>\n",
       "      <td>1</td>\n",
       "      <td>0.844</td>\n",
       "    </tr>\n",
       "    <tr>\n",
       "      <th>2</th>\n",
       "      <td>2</td>\n",
       "      <td>Global</td>\n",
       "      <td>Seven (feat. Latto) (Explicit Ver.)</td>\n",
       "      <td>Jung Kook</td>\n",
       "      <td>GOLDEN</td>\n",
       "      <td>82</td>\n",
       "      <td>11/3/2023</td>\n",
       "      <td>AR</td>\n",
       "      <td>0.790</td>\n",
       "      <td>0.3120</td>\n",
       "      <td>...</td>\n",
       "      <td>0.831</td>\n",
       "      <td>0.000000</td>\n",
       "      <td>11</td>\n",
       "      <td>0.0797</td>\n",
       "      <td>-4.185</td>\n",
       "      <td>1</td>\n",
       "      <td>0.0440</td>\n",
       "      <td>124.987</td>\n",
       "      <td>4</td>\n",
       "      <td>0.872</td>\n",
       "    </tr>\n",
       "    <tr>\n",
       "      <th>3</th>\n",
       "      <td>3</td>\n",
       "      <td>Global</td>\n",
       "      <td>Is It Over Now? (Taylor's Version) (From The V...</td>\n",
       "      <td>Taylor Swift</td>\n",
       "      <td>1989 (Taylor's Version)</td>\n",
       "      <td>93</td>\n",
       "      <td>10/26/2023</td>\n",
       "      <td>AR</td>\n",
       "      <td>0.596</td>\n",
       "      <td>0.0504</td>\n",
       "      <td>...</td>\n",
       "      <td>0.658</td>\n",
       "      <td>0.000000</td>\n",
       "      <td>0</td>\n",
       "      <td>0.1270</td>\n",
       "      <td>-7.346</td>\n",
       "      <td>1</td>\n",
       "      <td>0.0360</td>\n",
       "      <td>100.012</td>\n",
       "      <td>4</td>\n",
       "      <td>0.176</td>\n",
       "    </tr>\n",
       "    <tr>\n",
       "      <th>4</th>\n",
       "      <td>4</td>\n",
       "      <td>Global</td>\n",
       "      <td>PERRO NEGRO</td>\n",
       "      <td>Bad Bunny</td>\n",
       "      <td>nadie sabe lo que va a pasar mañana</td>\n",
       "      <td>97</td>\n",
       "      <td>10/13/2023</td>\n",
       "      <td>AR</td>\n",
       "      <td>0.911</td>\n",
       "      <td>0.0887</td>\n",
       "      <td>...</td>\n",
       "      <td>0.778</td>\n",
       "      <td>0.000022</td>\n",
       "      <td>5</td>\n",
       "      <td>0.1790</td>\n",
       "      <td>-2.248</td>\n",
       "      <td>1</td>\n",
       "      <td>0.2620</td>\n",
       "      <td>96.057</td>\n",
       "      <td>4</td>\n",
       "      <td>0.345</td>\n",
       "    </tr>\n",
       "    <tr>\n",
       "      <th>...</th>\n",
       "      <td>...</td>\n",
       "      <td>...</td>\n",
       "      <td>...</td>\n",
       "      <td>...</td>\n",
       "      <td>...</td>\n",
       "      <td>...</td>\n",
       "      <td>...</td>\n",
       "      <td>...</td>\n",
       "      <td>...</td>\n",
       "      <td>...</td>\n",
       "      <td>...</td>\n",
       "      <td>...</td>\n",
       "      <td>...</td>\n",
       "      <td>...</td>\n",
       "      <td>...</td>\n",
       "      <td>...</td>\n",
       "      <td>...</td>\n",
       "      <td>...</td>\n",
       "      <td>...</td>\n",
       "      <td>...</td>\n",
       "      <td>...</td>\n",
       "    </tr>\n",
       "    <tr>\n",
       "      <th>2857</th>\n",
       "      <td>2857</td>\n",
       "      <td>VNM</td>\n",
       "      <td>An Thần</td>\n",
       "      <td>Low G</td>\n",
       "      <td>An Thần</td>\n",
       "      <td>65</td>\n",
       "      <td>10/21/2021</td>\n",
       "      <td>AR</td>\n",
       "      <td>0.758</td>\n",
       "      <td>0.6310</td>\n",
       "      <td>...</td>\n",
       "      <td>0.773</td>\n",
       "      <td>0.000002</td>\n",
       "      <td>6</td>\n",
       "      <td>0.1140</td>\n",
       "      <td>-7.266</td>\n",
       "      <td>0</td>\n",
       "      <td>0.2140</td>\n",
       "      <td>169.996</td>\n",
       "      <td>4</td>\n",
       "      <td>0.907</td>\n",
       "    </tr>\n",
       "    <tr>\n",
       "      <th>2858</th>\n",
       "      <td>2858</td>\n",
       "      <td>VNM</td>\n",
       "      <td>Tell the kids i love them (ft. Shiki)</td>\n",
       "      <td>Obito</td>\n",
       "      <td>Đánh Đổi</td>\n",
       "      <td>63</td>\n",
       "      <td>10/10/2023</td>\n",
       "      <td>AR</td>\n",
       "      <td>0.678</td>\n",
       "      <td>0.5140</td>\n",
       "      <td>...</td>\n",
       "      <td>0.482</td>\n",
       "      <td>0.000000</td>\n",
       "      <td>2</td>\n",
       "      <td>0.2980</td>\n",
       "      <td>-14.073</td>\n",
       "      <td>1</td>\n",
       "      <td>0.1440</td>\n",
       "      <td>90.962</td>\n",
       "      <td>4</td>\n",
       "      <td>0.459</td>\n",
       "    </tr>\n",
       "    <tr>\n",
       "      <th>2859</th>\n",
       "      <td>2859</td>\n",
       "      <td>VNM</td>\n",
       "      <td>Too Sad to Dance</td>\n",
       "      <td>Jung Kook</td>\n",
       "      <td>GOLDEN</td>\n",
       "      <td>84</td>\n",
       "      <td>11/3/2023</td>\n",
       "      <td>AR</td>\n",
       "      <td>0.558</td>\n",
       "      <td>0.6110</td>\n",
       "      <td>...</td>\n",
       "      <td>0.467</td>\n",
       "      <td>0.000000</td>\n",
       "      <td>10</td>\n",
       "      <td>0.1050</td>\n",
       "      <td>-6.292</td>\n",
       "      <td>1</td>\n",
       "      <td>0.0809</td>\n",
       "      <td>100.518</td>\n",
       "      <td>4</td>\n",
       "      <td>0.563</td>\n",
       "    </tr>\n",
       "    <tr>\n",
       "      <th>2860</th>\n",
       "      <td>2860</td>\n",
       "      <td>VNM</td>\n",
       "      <td>You &amp; Me</td>\n",
       "      <td>JENNIE</td>\n",
       "      <td>JENNIE Special Single [You &amp; Me]</td>\n",
       "      <td>83</td>\n",
       "      <td>10/6/2023</td>\n",
       "      <td>AR</td>\n",
       "      <td>0.787</td>\n",
       "      <td>0.0147</td>\n",
       "      <td>...</td>\n",
       "      <td>0.573</td>\n",
       "      <td>0.000017</td>\n",
       "      <td>9</td>\n",
       "      <td>0.0926</td>\n",
       "      <td>-6.197</td>\n",
       "      <td>1</td>\n",
       "      <td>0.0606</td>\n",
       "      <td>111.996</td>\n",
       "      <td>4</td>\n",
       "      <td>0.575</td>\n",
       "    </tr>\n",
       "    <tr>\n",
       "      <th>2861</th>\n",
       "      <td>2861</td>\n",
       "      <td>VNM</td>\n",
       "      <td>Shot Glass of Tears</td>\n",
       "      <td>Jung Kook</td>\n",
       "      <td>GOLDEN</td>\n",
       "      <td>84</td>\n",
       "      <td>11/3/2023</td>\n",
       "      <td>AR</td>\n",
       "      <td>0.507</td>\n",
       "      <td>0.5080</td>\n",
       "      <td>...</td>\n",
       "      <td>0.394</td>\n",
       "      <td>0.000000</td>\n",
       "      <td>6</td>\n",
       "      <td>0.0825</td>\n",
       "      <td>-7.188</td>\n",
       "      <td>0</td>\n",
       "      <td>0.0350</td>\n",
       "      <td>77.955</td>\n",
       "      <td>4</td>\n",
       "      <td>0.164</td>\n",
       "    </tr>\n",
       "  </tbody>\n",
       "</table>\n",
       "<p>2862 rows × 21 columns</p>\n",
       "</div>"
      ],
      "text/plain": [
       "      Index Country                                         Track Name  \\\n",
       "0         0  Global                               Standing Next to You   \n",
       "1         1  Global                                             greedy   \n",
       "2         2  Global                Seven (feat. Latto) (Explicit Ver.)   \n",
       "3         3  Global  Is It Over Now? (Taylor's Version) (From The V...   \n",
       "4         4  Global                                        PERRO NEGRO   \n",
       "...     ...     ...                                                ...   \n",
       "2857   2857     VNM                                            An Thần   \n",
       "2858   2858     VNM              Tell the kids i love them (ft. Shiki)   \n",
       "2859   2859     VNM                                   Too Sad to Dance   \n",
       "2860   2860     VNM                                           You & Me   \n",
       "2861   2861     VNM                                Shot Glass of Tears   \n",
       "\n",
       "       Artist Name                           Album Name  Popularity  \\\n",
       "0        Jung Kook                               GOLDEN          91   \n",
       "1       Tate McRae                               greedy         100   \n",
       "2        Jung Kook                               GOLDEN          82   \n",
       "3     Taylor Swift              1989 (Taylor's Version)          93   \n",
       "4        Bad Bunny  nadie sabe lo que va a pasar mañana          97   \n",
       "...            ...                                  ...         ...   \n",
       "2857         Low G                              An Thần          65   \n",
       "2858         Obito                             Đánh Đổi          63   \n",
       "2859     Jung Kook                               GOLDEN          84   \n",
       "2860        JENNIE     JENNIE Special Single [You & Me]          83   \n",
       "2861     Jung Kook                               GOLDEN          84   \n",
       "\n",
       "            Date Markets  Danceability  Acousticness  ...  Energy  \\\n",
       "0      11/3/2023      AR         0.711        0.0447  ...   0.809   \n",
       "1      9/15/2023      AR         0.750        0.2560  ...   0.733   \n",
       "2      11/3/2023      AR         0.790        0.3120  ...   0.831   \n",
       "3     10/26/2023      AR         0.596        0.0504  ...   0.658   \n",
       "4     10/13/2023      AR         0.911        0.0887  ...   0.778   \n",
       "...          ...     ...           ...           ...  ...     ...   \n",
       "2857  10/21/2021      AR         0.758        0.6310  ...   0.773   \n",
       "2858  10/10/2023      AR         0.678        0.5140  ...   0.482   \n",
       "2859   11/3/2023      AR         0.558        0.6110  ...   0.467   \n",
       "2860   10/6/2023      AR         0.787        0.0147  ...   0.573   \n",
       "2861   11/3/2023      AR         0.507        0.5080  ...   0.394   \n",
       "\n",
       "      Instrumentalness  Key  Liveness  Loudness  Mode  Speechiness    Tempo  \\\n",
       "0             0.000000    2    0.3390    -4.389     0       0.0955  106.017   \n",
       "1             0.000000    6    0.1140    -3.180     0       0.0319  111.018   \n",
       "2             0.000000   11    0.0797    -4.185     1       0.0440  124.987   \n",
       "3             0.000000    0    0.1270    -7.346     1       0.0360  100.012   \n",
       "4             0.000022    5    0.1790    -2.248     1       0.2620   96.057   \n",
       "...                ...  ...       ...       ...   ...          ...      ...   \n",
       "2857          0.000002    6    0.1140    -7.266     0       0.2140  169.996   \n",
       "2858          0.000000    2    0.2980   -14.073     1       0.1440   90.962   \n",
       "2859          0.000000   10    0.1050    -6.292     1       0.0809  100.518   \n",
       "2860          0.000017    9    0.0926    -6.197     1       0.0606  111.996   \n",
       "2861          0.000000    6    0.0825    -7.188     0       0.0350   77.955   \n",
       "\n",
       "      TSignature  Positiveness  \n",
       "0              4         0.816  \n",
       "1              1         0.844  \n",
       "2              4         0.872  \n",
       "3              4         0.176  \n",
       "4              4         0.345  \n",
       "...          ...           ...  \n",
       "2857           4         0.907  \n",
       "2858           4         0.459  \n",
       "2859           4         0.563  \n",
       "2860           4         0.575  \n",
       "2861           4         0.164  \n",
       "\n",
       "[2862 rows x 21 columns]"
      ]
     },
     "execution_count": 12,
     "metadata": {},
     "output_type": "execute_result"
    }
   ],
   "source": [
    "df = pd.DataFrame(music)\n",
    "df"
   ]
  },
  {
   "cell_type": "code",
   "execution_count": null,
   "metadata": {},
   "outputs": [],
   "source": []
  },
  {
   "cell_type": "code",
   "execution_count": 13,
   "metadata": {},
   "outputs": [
    {
     "data": {
      "text/html": [
       "<div>\n",
       "<style scoped>\n",
       "    .dataframe tbody tr th:only-of-type {\n",
       "        vertical-align: middle;\n",
       "    }\n",
       "\n",
       "    .dataframe tbody tr th {\n",
       "        vertical-align: top;\n",
       "    }\n",
       "\n",
       "    .dataframe thead th {\n",
       "        text-align: right;\n",
       "    }\n",
       "</style>\n",
       "<table border=\"1\" class=\"dataframe\">\n",
       "  <thead>\n",
       "    <tr style=\"text-align: right;\">\n",
       "      <th></th>\n",
       "      <th>Index</th>\n",
       "      <th>Country</th>\n",
       "      <th>Track Name</th>\n",
       "      <th>Artist Name</th>\n",
       "      <th>Album Name</th>\n",
       "      <th>Popularity</th>\n",
       "      <th>Date</th>\n",
       "      <th>Markets</th>\n",
       "      <th>Danceability</th>\n",
       "      <th>Acousticness</th>\n",
       "      <th>...</th>\n",
       "      <th>Energy</th>\n",
       "      <th>Instrumentalness</th>\n",
       "      <th>Key</th>\n",
       "      <th>Liveness</th>\n",
       "      <th>Loudness</th>\n",
       "      <th>Mode</th>\n",
       "      <th>Speechiness</th>\n",
       "      <th>Tempo</th>\n",
       "      <th>TSignature</th>\n",
       "      <th>Positiveness</th>\n",
       "    </tr>\n",
       "  </thead>\n",
       "  <tbody>\n",
       "    <tr>\n",
       "      <th>673</th>\n",
       "      <td>673</td>\n",
       "      <td>ARE</td>\n",
       "      <td>Sprinter</td>\n",
       "      <td>Dave</td>\n",
       "      <td>Sprinter</td>\n",
       "      <td>93</td>\n",
       "      <td>6/1/2023</td>\n",
       "      <td>AR</td>\n",
       "      <td>0.916</td>\n",
       "      <td>0.186000</td>\n",
       "      <td>...</td>\n",
       "      <td>0.583</td>\n",
       "      <td>0.000000</td>\n",
       "      <td>1</td>\n",
       "      <td>0.0798</td>\n",
       "      <td>-8.067</td>\n",
       "      <td>1</td>\n",
       "      <td>0.2410</td>\n",
       "      <td>141.095</td>\n",
       "      <td>4</td>\n",
       "      <td>0.661</td>\n",
       "    </tr>\n",
       "    <tr>\n",
       "      <th>684</th>\n",
       "      <td>684</td>\n",
       "      <td>ARE</td>\n",
       "      <td>Yes or No</td>\n",
       "      <td>Jung Kook</td>\n",
       "      <td>GOLDEN</td>\n",
       "      <td>84</td>\n",
       "      <td>11/3/2023</td>\n",
       "      <td>AR</td>\n",
       "      <td>0.671</td>\n",
       "      <td>0.179000</td>\n",
       "      <td>...</td>\n",
       "      <td>0.839</td>\n",
       "      <td>0.000000</td>\n",
       "      <td>1</td>\n",
       "      <td>0.0748</td>\n",
       "      <td>-2.645</td>\n",
       "      <td>1</td>\n",
       "      <td>0.0866</td>\n",
       "      <td>83.845</td>\n",
       "      <td>4</td>\n",
       "      <td>0.882</td>\n",
       "    </tr>\n",
       "    <tr>\n",
       "      <th>683</th>\n",
       "      <td>683</td>\n",
       "      <td>ARE</td>\n",
       "      <td>Dance The Night - From Barbie The Album</td>\n",
       "      <td>Dua Lipa</td>\n",
       "      <td>Dance The Night (From Barbie The Album)</td>\n",
       "      <td>94</td>\n",
       "      <td>5/25/2023</td>\n",
       "      <td>AR</td>\n",
       "      <td>0.671</td>\n",
       "      <td>0.020700</td>\n",
       "      <td>...</td>\n",
       "      <td>0.845</td>\n",
       "      <td>0.000000</td>\n",
       "      <td>11</td>\n",
       "      <td>0.3290</td>\n",
       "      <td>-4.930</td>\n",
       "      <td>0</td>\n",
       "      <td>0.0480</td>\n",
       "      <td>110.056</td>\n",
       "      <td>4</td>\n",
       "      <td>0.775</td>\n",
       "    </tr>\n",
       "    <tr>\n",
       "      <th>682</th>\n",
       "      <td>682</td>\n",
       "      <td>ARE</td>\n",
       "      <td>Starboy</td>\n",
       "      <td>The Weeknd</td>\n",
       "      <td>Starboy</td>\n",
       "      <td>94</td>\n",
       "      <td>11/25/2016</td>\n",
       "      <td>AR</td>\n",
       "      <td>0.679</td>\n",
       "      <td>0.141000</td>\n",
       "      <td>...</td>\n",
       "      <td>0.587</td>\n",
       "      <td>0.000006</td>\n",
       "      <td>7</td>\n",
       "      <td>0.1370</td>\n",
       "      <td>-7.015</td>\n",
       "      <td>1</td>\n",
       "      <td>0.2760</td>\n",
       "      <td>186.003</td>\n",
       "      <td>4</td>\n",
       "      <td>0.486</td>\n",
       "    </tr>\n",
       "    <tr>\n",
       "      <th>681</th>\n",
       "      <td>681</td>\n",
       "      <td>ARE</td>\n",
       "      <td>I Wanna Be Yours</td>\n",
       "      <td>Arctic Monkeys</td>\n",
       "      <td>AM</td>\n",
       "      <td>95</td>\n",
       "      <td>9/9/2013</td>\n",
       "      <td>AR</td>\n",
       "      <td>0.464</td>\n",
       "      <td>0.136000</td>\n",
       "      <td>...</td>\n",
       "      <td>0.417</td>\n",
       "      <td>0.022000</td>\n",
       "      <td>0</td>\n",
       "      <td>0.0974</td>\n",
       "      <td>-9.345</td>\n",
       "      <td>0</td>\n",
       "      <td>0.0256</td>\n",
       "      <td>67.528</td>\n",
       "      <td>4</td>\n",
       "      <td>0.479</td>\n",
       "    </tr>\n",
       "    <tr>\n",
       "      <th>...</th>\n",
       "      <td>...</td>\n",
       "      <td>...</td>\n",
       "      <td>...</td>\n",
       "      <td>...</td>\n",
       "      <td>...</td>\n",
       "      <td>...</td>\n",
       "      <td>...</td>\n",
       "      <td>...</td>\n",
       "      <td>...</td>\n",
       "      <td>...</td>\n",
       "      <td>...</td>\n",
       "      <td>...</td>\n",
       "      <td>...</td>\n",
       "      <td>...</td>\n",
       "      <td>...</td>\n",
       "      <td>...</td>\n",
       "      <td>...</td>\n",
       "      <td>...</td>\n",
       "      <td>...</td>\n",
       "      <td>...</td>\n",
       "      <td>...</td>\n",
       "    </tr>\n",
       "    <tr>\n",
       "      <th>2552</th>\n",
       "      <td>2552</td>\n",
       "      <td>ZAF</td>\n",
       "      <td>Paint The Town Red</td>\n",
       "      <td>Doja Cat</td>\n",
       "      <td>Scarlet</td>\n",
       "      <td>89</td>\n",
       "      <td>9/20/2023</td>\n",
       "      <td>AR</td>\n",
       "      <td>0.864</td>\n",
       "      <td>0.255000</td>\n",
       "      <td>...</td>\n",
       "      <td>0.556</td>\n",
       "      <td>0.000004</td>\n",
       "      <td>2</td>\n",
       "      <td>0.1120</td>\n",
       "      <td>-7.683</td>\n",
       "      <td>0</td>\n",
       "      <td>0.1940</td>\n",
       "      <td>99.974</td>\n",
       "      <td>4</td>\n",
       "      <td>0.726</td>\n",
       "    </tr>\n",
       "    <tr>\n",
       "      <th>2553</th>\n",
       "      <td>2553</td>\n",
       "      <td>ZAF</td>\n",
       "      <td>Ngilele E Hotel</td>\n",
       "      <td>Killorbeezbeatz</td>\n",
       "      <td>Ngilele E Hotel</td>\n",
       "      <td>63</td>\n",
       "      <td>8/28/2023</td>\n",
       "      <td>AR</td>\n",
       "      <td>0.811</td>\n",
       "      <td>0.000216</td>\n",
       "      <td>...</td>\n",
       "      <td>0.706</td>\n",
       "      <td>0.349000</td>\n",
       "      <td>9</td>\n",
       "      <td>0.0551</td>\n",
       "      <td>-6.664</td>\n",
       "      <td>1</td>\n",
       "      <td>0.0429</td>\n",
       "      <td>113.014</td>\n",
       "      <td>4</td>\n",
       "      <td>0.581</td>\n",
       "    </tr>\n",
       "    <tr>\n",
       "      <th>2554</th>\n",
       "      <td>2554</td>\n",
       "      <td>ZAF</td>\n",
       "      <td>Peacock Revisit (feat. Ice Beats Slide &amp; Sbuda...</td>\n",
       "      <td>Uncle Waffles</td>\n",
       "      <td>SOLACE</td>\n",
       "      <td>67</td>\n",
       "      <td>8/11/2023</td>\n",
       "      <td>AR</td>\n",
       "      <td>0.582</td>\n",
       "      <td>0.007580</td>\n",
       "      <td>...</td>\n",
       "      <td>0.443</td>\n",
       "      <td>0.500000</td>\n",
       "      <td>2</td>\n",
       "      <td>0.0499</td>\n",
       "      <td>-11.856</td>\n",
       "      <td>1</td>\n",
       "      <td>0.0983</td>\n",
       "      <td>111.980</td>\n",
       "      <td>4</td>\n",
       "      <td>0.260</td>\n",
       "    </tr>\n",
       "    <tr>\n",
       "      <th>2556</th>\n",
       "      <td>2556</td>\n",
       "      <td>ZAF</td>\n",
       "      <td>IDGAF (feat. Yeat)</td>\n",
       "      <td>Drake</td>\n",
       "      <td>For All The Dogs</td>\n",
       "      <td>94</td>\n",
       "      <td>10/6/2023</td>\n",
       "      <td>AR</td>\n",
       "      <td>0.663</td>\n",
       "      <td>0.046400</td>\n",
       "      <td>...</td>\n",
       "      <td>0.670</td>\n",
       "      <td>0.000089</td>\n",
       "      <td>8</td>\n",
       "      <td>0.2050</td>\n",
       "      <td>-8.399</td>\n",
       "      <td>1</td>\n",
       "      <td>0.2710</td>\n",
       "      <td>136.952</td>\n",
       "      <td>4</td>\n",
       "      <td>0.138</td>\n",
       "    </tr>\n",
       "    <tr>\n",
       "      <th>2581</th>\n",
       "      <td>2581</td>\n",
       "      <td>ZAF</td>\n",
       "      <td>Exchange</td>\n",
       "      <td>Bryson Tiller</td>\n",
       "      <td>T R A P S O U L</td>\n",
       "      <td>82</td>\n",
       "      <td>10/2/2015</td>\n",
       "      <td>AR</td>\n",
       "      <td>0.525</td>\n",
       "      <td>0.107000</td>\n",
       "      <td>...</td>\n",
       "      <td>0.433</td>\n",
       "      <td>0.000000</td>\n",
       "      <td>6</td>\n",
       "      <td>0.1350</td>\n",
       "      <td>-10.598</td>\n",
       "      <td>1</td>\n",
       "      <td>0.1850</td>\n",
       "      <td>160.108</td>\n",
       "      <td>4</td>\n",
       "      <td>0.276</td>\n",
       "    </tr>\n",
       "  </tbody>\n",
       "</table>\n",
       "<p>2862 rows × 21 columns</p>\n",
       "</div>"
      ],
      "text/plain": [
       "      Index Country                                         Track Name  \\\n",
       "673     673     ARE                                           Sprinter   \n",
       "684     684     ARE                                          Yes or No   \n",
       "683     683     ARE            Dance The Night - From Barbie The Album   \n",
       "682     682     ARE                                            Starboy   \n",
       "681     681     ARE                                   I Wanna Be Yours   \n",
       "...     ...     ...                                                ...   \n",
       "2552   2552     ZAF                                 Paint The Town Red   \n",
       "2553   2553     ZAF                                    Ngilele E Hotel   \n",
       "2554   2554     ZAF  Peacock Revisit (feat. Ice Beats Slide & Sbuda...   \n",
       "2556   2556     ZAF                                 IDGAF (feat. Yeat)   \n",
       "2581   2581     ZAF                                           Exchange   \n",
       "\n",
       "          Artist Name                               Album Name  Popularity  \\\n",
       "673              Dave                                 Sprinter          93   \n",
       "684         Jung Kook                                   GOLDEN          84   \n",
       "683          Dua Lipa  Dance The Night (From Barbie The Album)          94   \n",
       "682        The Weeknd                                  Starboy          94   \n",
       "681    Arctic Monkeys                                       AM          95   \n",
       "...               ...                                      ...         ...   \n",
       "2552         Doja Cat                                  Scarlet          89   \n",
       "2553  Killorbeezbeatz                          Ngilele E Hotel          63   \n",
       "2554    Uncle Waffles                                   SOLACE          67   \n",
       "2556            Drake                         For All The Dogs          94   \n",
       "2581    Bryson Tiller                          T R A P S O U L          82   \n",
       "\n",
       "            Date Markets  Danceability  Acousticness  ...  Energy  \\\n",
       "673     6/1/2023      AR         0.916      0.186000  ...   0.583   \n",
       "684    11/3/2023      AR         0.671      0.179000  ...   0.839   \n",
       "683    5/25/2023      AR         0.671      0.020700  ...   0.845   \n",
       "682   11/25/2016      AR         0.679      0.141000  ...   0.587   \n",
       "681     9/9/2013      AR         0.464      0.136000  ...   0.417   \n",
       "...          ...     ...           ...           ...  ...     ...   \n",
       "2552   9/20/2023      AR         0.864      0.255000  ...   0.556   \n",
       "2553   8/28/2023      AR         0.811      0.000216  ...   0.706   \n",
       "2554   8/11/2023      AR         0.582      0.007580  ...   0.443   \n",
       "2556   10/6/2023      AR         0.663      0.046400  ...   0.670   \n",
       "2581   10/2/2015      AR         0.525      0.107000  ...   0.433   \n",
       "\n",
       "      Instrumentalness  Key  Liveness  Loudness  Mode  Speechiness    Tempo  \\\n",
       "673           0.000000    1    0.0798    -8.067     1       0.2410  141.095   \n",
       "684           0.000000    1    0.0748    -2.645     1       0.0866   83.845   \n",
       "683           0.000000   11    0.3290    -4.930     0       0.0480  110.056   \n",
       "682           0.000006    7    0.1370    -7.015     1       0.2760  186.003   \n",
       "681           0.022000    0    0.0974    -9.345     0       0.0256   67.528   \n",
       "...                ...  ...       ...       ...   ...          ...      ...   \n",
       "2552          0.000004    2    0.1120    -7.683     0       0.1940   99.974   \n",
       "2553          0.349000    9    0.0551    -6.664     1       0.0429  113.014   \n",
       "2554          0.500000    2    0.0499   -11.856     1       0.0983  111.980   \n",
       "2556          0.000089    8    0.2050    -8.399     1       0.2710  136.952   \n",
       "2581          0.000000    6    0.1350   -10.598     1       0.1850  160.108   \n",
       "\n",
       "      TSignature  Positiveness  \n",
       "673            4         0.661  \n",
       "684            4         0.882  \n",
       "683            4         0.775  \n",
       "682            4         0.486  \n",
       "681            4         0.479  \n",
       "...          ...           ...  \n",
       "2552           4         0.726  \n",
       "2553           4         0.581  \n",
       "2554           4         0.260  \n",
       "2556           4         0.138  \n",
       "2581           4         0.276  \n",
       "\n",
       "[2862 rows x 21 columns]"
      ]
     },
     "execution_count": 13,
     "metadata": {},
     "output_type": "execute_result"
    }
   ],
   "source": [
    "df_sorted_artist_name = df.sort_values('Country', ascending=True)\n",
    "df_sorted_artist_name"
   ]
  },
  {
   "cell_type": "code",
   "execution_count": 14,
   "metadata": {},
   "outputs": [
    {
     "data": {
      "image/png": "[encoded data removed]",
      "text/plain": [
       "<Figure size 1000x800 with 1 Axes>"
      ]
     },
     "metadata": {},
     "output_type": "display_data"
    }
   ],
   "source": [
    "top_tracks = df_sorted_artist_name.head(10)\n",
    "\n",
    "# Create a barplot\n",
    "plt.figure(figsize=(10, 8))\n",
    "sns.barplot(x='Popularity', y='Track Name', data=top_tracks, palette='viridis')\n",
    "\n",
    "# Add titles and labels\n",
    "plt.xlabel('Popularity')\n",
    "plt.ylabel('Track Name')\n",
    "plt.title('Top 10 Most Popular Tracks on Spotify')\n",
    "\n",
    "# Display the plot\n",
    "plt.tight_layout()\n",
    "plt.show()"
   ]
  },
  {
   "cell_type": "code",
   "execution_count": 15,
   "metadata": {},
   "outputs": [
    {
     "data": {
      "image/png": "[encoded data removed]",
      "text/plain": [
       "<Figure size 1000x600 with 1 Axes>"
      ]
     },
     "metadata": {},
     "output_type": "display_data"
    }
   ],
   "source": [
    "\n",
    "\n",
    "# Now, we'll create a scatter plot with Popularity on the x-axis and Danceability on the y-axis.\n",
    "plt.figure(figsize=(10, 6))\n",
    "\n",
    "# Create a scatter plot\n",
    "plt.scatter(music['Popularity'], music['Danceability'], alpha=0.5)\n",
    "\n",
    "# Add titles and labels\n",
    "plt.title('Scatter Plot of Track Popularity vs Danceability')\n",
    "plt.xlabel('Popularity')\n",
    "plt.ylabel('Danceability')\n",
    "\n",
    "# Show grid lines\n",
    "plt.grid(True)\n",
    "\n",
    "# Show the plot\n",
    "plt.show()"
   ]
  },
  {
   "cell_type": "code",
   "execution_count": 19,
   "metadata": {},
   "outputs": [
    {
     "data": {
      "application/vnd.plotly.v1+json": {
       "config": {
        "plotlyServerURL": "https://plot.ly"
       },
       "data": [
        {
         "coloraxis": "coloraxis",
         "geo": "geo",
         "hovertemplate": "Country=%{location}<br>Popularity=%{z}<extra></extra>",
         "locationmode": "ISO-3",
         "locations": [
          "ARE",
          "ARG",
          "AUS",
          "AUT",
          "BEL",
          "BGR",
          "BLR",
          "BRA",
          "CAN",
          "CHE",
          "CHL",
          "COL",
          "CRI",
          "CZE",
          "DEU",
          "DNK",
          "DOM",
          "ECU",
          "EGY",
          "ESP",
          "EST",
          "FIN",
          "FRA",
          "GBR",
          "GRC",
          "GTM",
          "Global",
          "HKG",
          "HND",
          "HUN",
          "IDN",
          "IND",
          "IRL",
          "ISL",
          "ISR",
          "ITA",
          "JPN",
          "KAZ",
          "KOR",
          "LTU",
          "LUX",
          "LVA",
          "MAR",
          "MEX",
          "MYS",
          "NGA",
          "NIC",
          "NLD",
          "NOR",
          "NZL",
          "PAK",
          "PAN",
          "PER",
          "PHL",
          "POL",
          "PRT",
          "PRY",
          "ROU",
          "SAU",
          "SGP",
          "SLV",
          "SVK",
          "SWE",
          "THA",
          "TUR",
          "TWN",
          "UKR",
          "URY",
          "USA",
          "VEN",
          "VNM",
          "ZAF"
         ],
         "name": "",
         "type": "choropleth",
         "z": [
          89.58,
          82.93023255813954,
          90.55102040816327,
          82,
          85.33333333333333,
          66.72727272727273,
          67.3125,
          82.22222222222223,
          90.36734693877551,
          87.31818181818181,
          80.76190476190476,
          86.51162790697674,
          86.6590909090909,
          71.9,
          80.35135135135135,
          67.78048780487805,
          85.6304347826087,
          86.57777777777778,
          62.13636363636363,
          81.74468085106383,
          81.3170731707317,
          62.8235294117647,
          77.68181818181819,
          88.5625,
          65.58333333333333,
          87.73170731707317,
          92.14893617021276,
          86.91304347826087,
          88.86046511627907,
          65.61290322580645,
          82.72,
          78.18,
          86.80851063829788,
          76.95454545454545,
          95.4,
          73.73913043478261,
          72.07407407407408,
          82.04347826086956,
          77.54,
          83.53488372093024,
          88.81818181818181,
          86.1590909090909,
          63.625,
          86.83720930232558,
          86.9,
          65.26,
          88.02439024390245,
          75.28260869565217,
          77.8974358974359,
          88.47916666666667,
          77.88,
          84.23913043478261,
          86.23809523809524,
          82.79591836734694,
          76.08823529411765,
          74.5609756097561,
          87.02564102564102,
          61.458333333333336,
          87.29787234042553,
          89,
          86.79069767441861,
          74.72972972972973,
          74,
          82.71428571428571,
          75.6,
          82.96,
          82.0952380952381,
          79.3953488372093,
          90.63265306122449,
          85.54347826086956,
          77.82608695652173,
          70.10204081632654
         ]
        }
       ],
       "layout": {
        "coloraxis": {
         "colorbar": {
          "title": {
           "text": "Popularity"
          }
         },
         "colorscale": [
          [
           0,
           "#0d0887"
          ],
          [
           0.1111111111111111,
           "#46039f"
          ],
          [
           0.2222222222222222,
           "#7201a8"
          ],
          [
           0.3333333333333333,
           "#9c179e"
          ],
          [
           0.4444444444444444,
           "#bd3786"
          ],
          [
           0.5555555555555556,
           "#d8576b"
          ],
          [
           0.6666666666666666,
           "#ed7953"
          ],
          [
           0.7777777777777778,
           "#fb9f3a"
          ],
          [
           0.8888888888888888,
           "#fdca26"
          ],
          [
           1,
           "#f0f921"
          ]
         ]
        },
        "geo": {
         "center": {},
         "domain": {
          "x": [
           0,
           1
          ],
          "y": [
           0,
           1
          ]
         }
        },
        "legend": {
         "tracegroupgap": 0
        },
        "margin": {
         "t": 60
        },
        "template": {
         "data": {
          "bar": [
           {
            "error_x": {
             "color": "#2a3f5f"
            },
            "error_y": {
             "color": "#2a3f5f"
            },
            "marker": {
             "line": {
              "color": "#E5ECF6",
              "width": 0.5
             },
             "pattern": {
              "fillmode": "overlay",
              "size": 10,
              "solidity": 0.2
             }
            },
            "type": "bar"
           }
          ],
          "barpolar": [
           {
            "marker": {
             "line": {
              "color": "#E5ECF6",
              "width": 0.5
             },
             "pattern": {
              "fillmode": "overlay",
              "size": 10,
              "solidity": 0.2
             }
            },
            "type": "barpolar"
           }
          ],
          "carpet": [
           {
            "aaxis": {
             "endlinecolor": "#2a3f5f",
             "gridcolor": "white",
             "linecolor": "white",
             "minorgridcolor": "white",
             "startlinecolor": "#2a3f5f"
            },
            "baxis": {
             "endlinecolor": "#2a3f5f",
             "gridcolor": "white",
             "linecolor": "white",
             "minorgridcolor": "white",
             "startlinecolor": "#2a3f5f"
            },
            "type": "carpet"
           }
          ],
          "choropleth": [
           {
            "colorbar": {
             "outlinewidth": 0,
             "ticks": ""
            },
            "type": "choropleth"
           }
          ],
          "contour": [
           {
            "colorbar": {
             "outlinewidth": 0,
             "ticks": ""
            },
            "colorscale": [
             [
              0,
              "#0d0887"
             ],
             [
              0.1111111111111111,
              "#46039f"
             ],
             [
              0.2222222222222222,
              "#7201a8"
             ],
             [
              0.3333333333333333,
              "#9c179e"
             ],
             [
              0.4444444444444444,
              "#bd3786"
             ],
             [
              0.5555555555555556,
              "#d8576b"
             ],
             [
              0.6666666666666666,
              "#ed7953"
             ],
             [
              0.7777777777777778,
              "#fb9f3a"
             ],
             [
              0.8888888888888888,
              "#fdca26"
             ],
             [
              1,
              "#f0f921"
             ]
            ],
            "type": "contour"
           }
          ],
          "contourcarpet": [
           {
            "colorbar": {
             "outlinewidth": 0,
             "ticks": ""
            },
            "type": "contourcarpet"
           }
          ],
          "heatmap": [
           {
            "colorbar": {
             "outlinewidth": 0,
             "ticks": ""
            },
            "colorscale": [
             [
              0,
              "#0d0887"
             ],
             [
              0.1111111111111111,
              "#46039f"
             ],
             [
              0.2222222222222222,
              "#7201a8"
             ],
             [
              0.3333333333333333,
              "#9c179e"
             ],
             [
              0.4444444444444444,
              "#bd3786"
             ],
             [
              0.5555555555555556,
              "#d8576b"
             ],
             [
              0.6666666666666666,
              "#ed7953"
             ],
             [
              0.7777777777777778,
              "#fb9f3a"
             ],
             [
              0.8888888888888888,
              "#fdca26"
             ],
             [
              1,
              "#f0f921"
             ]
            ],
            "type": "heatmap"
           }
          ],
          "heatmapgl": [
           {
            "colorbar": {
             "outlinewidth": 0,
             "ticks": ""
            },
            "colorscale": [
             [
              0,
              "#0d0887"
             ],
             [
              0.1111111111111111,
              "#46039f"
             ],
             [
              0.2222222222222222,
              "#7201a8"
             ],
             [
              0.3333333333333333,
              "#9c179e"
             ],
             [
              0.4444444444444444,
              "#bd3786"
             ],
             [
              0.5555555555555556,
              "#d8576b"
             ],
             [
              0.6666666666666666,
              "#ed7953"
             ],
             [
              0.7777777777777778,
              "#fb9f3a"
             ],
             [
              0.8888888888888888,
              "#fdca26"
             ],
             [
              1,
              "#f0f921"
             ]
            ],
            "type": "heatmapgl"
           }
          ],
          "histogram": [
           {
            "marker": {
             "pattern": {
              "fillmode": "overlay",
              "size": 10,
              "solidity": 0.2
             }
            },
            "type": "histogram"
           }
          ],
          "histogram2d": [
           {
            "colorbar": {
             "outlinewidth": 0,
             "ticks": ""
            },
            "colorscale": [
             [
              0,
              "#0d0887"
             ],
             [
              0.1111111111111111,
              "#46039f"
             ],
             [
              0.2222222222222222,
              "#7201a8"
             ],
             [
              0.3333333333333333,
              "#9c179e"
             ],
             [
              0.4444444444444444,
              "#bd3786"
             ],
             [
              0.5555555555555556,
              "#d8576b"
             ],
             [
              0.6666666666666666,
              "#ed7953"
             ],
             [
              0.7777777777777778,
              "#fb9f3a"
             ],
             [
              0.8888888888888888,
              "#fdca26"
             ],
             [
              1,
              "#f0f921"
             ]
            ],
            "type": "histogram2d"
           }
          ],
          "histogram2dcontour": [
           {
            "colorbar": {
             "outlinewidth": 0,
             "ticks": ""
            },
            "colorscale": [
             [
              0,
              "#0d0887"
             ],
             [
              0.1111111111111111,
              "#46039f"
             ],
             [
              0.2222222222222222,
              "#7201a8"
             ],
             [
              0.3333333333333333,
              "#9c179e"
             ],
             [
              0.4444444444444444,
              "#bd3786"
             ],
             [
              0.5555555555555556,
              "#d8576b"
             ],
             [
              0.6666666666666666,
              "#ed7953"
             ],
             [
              0.7777777777777778,
              "#fb9f3a"
             ],
             [
              0.8888888888888888,
              "#fdca26"
             ],
             [
              1,
              "#f0f921"
             ]
            ],
            "type": "histogram2dcontour"
           }
          ],
          "mesh3d": [
           {
            "colorbar": {
             "outlinewidth": 0,
             "ticks": ""
            },
            "type": "mesh3d"
           }
          ],
          "parcoords": [
           {
            "line": {
             "colorbar": {
              "outlinewidth": 0,
              "ticks": ""
             }
            },
            "type": "parcoords"
           }
          ],
          "pie": [
           {
            "automargin": true,
            "type": "pie"
           }
          ],
          "scatter": [
           {
            "fillpattern": {
             "fillmode": "overlay",
             "size": 10,
             "solidity": 0.2
            },
            "type": "scatter"
           }
          ],
          "scatter3d": [
           {
            "line": {
             "colorbar": {
              "outlinewidth": 0,
              "ticks": ""
             }
            },
            "marker": {
             "colorbar": {
              "outlinewidth": 0,
              "ticks": ""
             }
            },
            "type": "scatter3d"
           }
          ],
          "scattercarpet": [
           {
            "marker": {
             "colorbar": {
              "outlinewidth": 0,
              "ticks": ""
             }
            },
            "type": "scattercarpet"
           }
          ],
          "scattergeo": [
           {
            "marker": {
             "colorbar": {
              "outlinewidth": 0,
              "ticks": ""
             }
            },
            "type": "scattergeo"
           }
          ],
          "scattergl": [
           {
            "marker": {
             "colorbar": {
              "outlinewidth": 0,
              "ticks": ""
             }
            },
            "type": "scattergl"
           }
          ],
          "scattermapbox": [
           {
            "marker": {
             "colorbar": {
              "outlinewidth": 0,
              "ticks": ""
             }
            },
            "type": "scattermapbox"
           }
          ],
          "scatterpolar": [
           {
            "marker": {
             "colorbar": {
              "outlinewidth": 0,
              "ticks": ""
             }
            },
            "type": "scatterpolar"
           }
          ],
          "scatterpolargl": [
           {
            "marker": {
             "colorbar": {
              "outlinewidth": 0,
              "ticks": ""
             }
            },
            "type": "scatterpolargl"
           }
          ],
          "scatterternary": [
           {
            "marker": {
             "colorbar": {
              "outlinewidth": 0,
              "ticks": ""
             }
            },
            "type": "scatterternary"
           }
          ],
          "surface": [
           {
            "colorbar": {
             "outlinewidth": 0,
             "ticks": ""
            },
            "colorscale": [
             [
              0,
              "#0d0887"
             ],
             [
              0.1111111111111111,
              "#46039f"
             ],
             [
              0.2222222222222222,
              "#7201a8"
             ],
             [
              0.3333333333333333,
              "#9c179e"
             ],
             [
              0.4444444444444444,
              "#bd3786"
             ],
             [
              0.5555555555555556,
              "#d8576b"
             ],
             [
              0.6666666666666666,
              "#ed7953"
             ],
             [
              0.7777777777777778,
              "#fb9f3a"
             ],
             [
              0.8888888888888888,
              "#fdca26"
             ],
             [
              1,
              "#f0f921"
             ]
            ],
            "type": "surface"
           }
          ],
          "table": [
           {
            "cells": {
             "fill": {
              "color": "#EBF0F8"
             },
             "line": {
              "color": "white"
             }
            },
            "header": {
             "fill": {
              "color": "#C8D4E3"
             },
             "line": {
              "color": "white"
             }
            },
            "type": "table"
           }
          ]
         },
         "layout": {
          "annotationdefaults": {
           "arrowcolor": "#2a3f5f",
           "arrowhead": 0,
           "arrowwidth": 1
          },
          "autotypenumbers": "strict",
          "coloraxis": {
           "colorbar": {
            "outlinewidth": 0,
            "ticks": ""
           }
          },
          "colorscale": {
           "diverging": [
            [
             0,
             "#8e0152"
            ],
            [
             0.1,
             "#c51b7d"
            ],
            [
             0.2,
             "#de77ae"
            ],
            [
             0.3,
             "#f1b6da"
            ],
            [
             0.4,
             "#fde0ef"
            ],
            [
             0.5,
             "#f7f7f7"
            ],
            [
             0.6,
             "#e6f5d0"
            ],
            [
             0.7,
             "#b8e186"
            ],
            [
             0.8,
             "#7fbc41"
            ],
            [
             0.9,
             "#4d9221"
            ],
            [
             1,
             "#276419"
            ]
           ],
           "sequential": [
            [
             0,
             "#0d0887"
            ],
            [
             0.1111111111111111,
             "#46039f"
            ],
            [
             0.2222222222222222,
             "#7201a8"
            ],
            [
             0.3333333333333333,
             "#9c179e"
            ],
            [
             0.4444444444444444,
             "#bd3786"
            ],
            [
             0.5555555555555556,
             "#d8576b"
            ],
            [
             0.6666666666666666,
             "#ed7953"
            ],
            [
             0.7777777777777778,
             "#fb9f3a"
            ],
            [
             0.8888888888888888,
             "#fdca26"
            ],
            [
             1,
             "#f0f921"
            ]
           ],
           "sequentialminus": [
            [
             0,
             "#0d0887"
            ],
            [
             0.1111111111111111,
             "#46039f"
            ],
            [
             0.2222222222222222,
             "#7201a8"
            ],
            [
             0.3333333333333333,
             "#9c179e"
            ],
            [
             0.4444444444444444,
             "#bd3786"
            ],
            [
             0.5555555555555556,
             "#d8576b"
            ],
            [
             0.6666666666666666,
             "#ed7953"
            ],
            [
             0.7777777777777778,
             "#fb9f3a"
            ],
            [
             0.8888888888888888,
             "#fdca26"
            ],
            [
             1,
             "#f0f921"
            ]
           ]
          },
          "colorway": [
           "#636efa",
           "#EF553B",
           "#00cc96",
           "#ab63fa",
           "#FFA15A",
           "#19d3f3",
           "#FF6692",
           "#B6E880",
           "#FF97FF",
           "#FECB52"
          ],
          "font": {
           "color": "#2a3f5f"
          },
          "geo": {
           "bgcolor": "white",
           "lakecolor": "white",
           "landcolor": "#E5ECF6",
           "showlakes": true,
           "showland": true,
           "subunitcolor": "white"
          },
          "hoverlabel": {
           "align": "left"
          },
          "hovermode": "closest",
          "mapbox": {
           "style": "light"
          },
          "paper_bgcolor": "white",
          "plot_bgcolor": "#E5ECF6",
          "polar": {
           "angularaxis": {
            "gridcolor": "white",
            "linecolor": "white",
            "ticks": ""
           },
           "bgcolor": "#E5ECF6",
           "radialaxis": {
            "gridcolor": "white",
            "linecolor": "white",
            "ticks": ""
           }
          },
          "scene": {
           "xaxis": {
            "backgroundcolor": "#E5ECF6",
            "gridcolor": "white",
            "gridwidth": 2,
            "linecolor": "white",
            "showbackground": true,
            "ticks": "",
            "zerolinecolor": "white"
           },
           "yaxis": {
            "backgroundcolor": "#E5ECF6",
            "gridcolor": "white",
            "gridwidth": 2,
            "linecolor": "white",
            "showbackground": true,
            "ticks": "",
            "zerolinecolor": "white"
           },
           "zaxis": {
            "backgroundcolor": "#E5ECF6",
            "gridcolor": "white",
            "gridwidth": 2,
            "linecolor": "white",
            "showbackground": true,
            "ticks": "",
            "zerolinecolor": "white"
           }
          },
          "shapedefaults": {
           "line": {
            "color": "#2a3f5f"
           }
          },
          "ternary": {
           "aaxis": {
            "gridcolor": "white",
            "linecolor": "white",
            "ticks": ""
           },
           "baxis": {
            "gridcolor": "white",
            "linecolor": "white",
            "ticks": ""
           },
           "bgcolor": "#E5ECF6",
           "caxis": {
            "gridcolor": "white",
            "linecolor": "white",
            "ticks": ""
           }
          },
          "title": {
           "x": 0.05
          },
          "xaxis": {
           "automargin": true,
           "gridcolor": "white",
           "linecolor": "white",
           "ticks": "",
           "title": {
            "standoff": 15
           },
           "zerolinecolor": "white",
           "zerolinewidth": 2
          },
          "yaxis": {
           "automargin": true,
           "gridcolor": "white",
           "linecolor": "white",
           "ticks": "",
           "title": {
            "standoff": 15
           },
           "zerolinecolor": "white",
           "zerolinewidth": 2
          }
         }
        },
        "title": {
         "text": "Average Popularity by Country"
        }
       }
      }
     },
     "metadata": {},
     "output_type": "display_data"
    }
   ],
   "source": [
    "\n",
    "import plotly.express as px\n",
    "\n",
    "country_data = music.groupby('Country')['Popularity'].mean().reset_index()\n",
    "\n",
    "fig = px.choropleth(country_data,\n",
    "                    locations=\"Country\",\n",
    "                    locationmode='ISO-3',\n",
    "                    color=\"Popularity\",\n",
    "                    color_continuous_scale=px.colors.sequential.Plasma)\n",
    "\n",
    "fig.update_layout(title_text='Average Popularity by Country')\n",
    "\n",
    "fig.write_html(\"choropleth.html\")\n",
    "#grab the data plot it write to the templates folder render template flask route output it "
   ]
  },
  {
   "cell_type": "code",
   "execution_count": 17,
   "metadata": {},
   "outputs": [
    {
     "data": {
      "text/html": [
       "<div>\n",
       "<style scoped>\n",
       "    .dataframe tbody tr th:only-of-type {\n",
       "        vertical-align: middle;\n",
       "    }\n",
       "\n",
       "    .dataframe tbody tr th {\n",
       "        vertical-align: top;\n",
       "    }\n",
       "\n",
       "    .dataframe thead th {\n",
       "        text-align: right;\n",
       "    }\n",
       "</style>\n",
       "<table border=\"1\" class=\"dataframe\">\n",
       "  <thead>\n",
       "    <tr style=\"text-align: right;\">\n",
       "      <th></th>\n",
       "      <th>Country</th>\n",
       "      <th>Popularity</th>\n",
       "    </tr>\n",
       "  </thead>\n",
       "  <tbody>\n",
       "    <tr>\n",
       "      <th>0</th>\n",
       "      <td>ARE</td>\n",
       "      <td>89.580000</td>\n",
       "    </tr>\n",
       "    <tr>\n",
       "      <th>1</th>\n",
       "      <td>ARG</td>\n",
       "      <td>82.930233</td>\n",
       "    </tr>\n",
       "    <tr>\n",
       "      <th>2</th>\n",
       "      <td>AUS</td>\n",
       "      <td>90.551020</td>\n",
       "    </tr>\n",
       "    <tr>\n",
       "      <th>3</th>\n",
       "      <td>AUT</td>\n",
       "      <td>82.000000</td>\n",
       "    </tr>\n",
       "    <tr>\n",
       "      <th>4</th>\n",
       "      <td>BEL</td>\n",
       "      <td>85.333333</td>\n",
       "    </tr>\n",
       "    <tr>\n",
       "      <th>...</th>\n",
       "      <td>...</td>\n",
       "      <td>...</td>\n",
       "    </tr>\n",
       "    <tr>\n",
       "      <th>67</th>\n",
       "      <td>URY</td>\n",
       "      <td>79.395349</td>\n",
       "    </tr>\n",
       "    <tr>\n",
       "      <th>68</th>\n",
       "      <td>USA</td>\n",
       "      <td>90.632653</td>\n",
       "    </tr>\n",
       "    <tr>\n",
       "      <th>69</th>\n",
       "      <td>VEN</td>\n",
       "      <td>85.543478</td>\n",
       "    </tr>\n",
       "    <tr>\n",
       "      <th>70</th>\n",
       "      <td>VNM</td>\n",
       "      <td>77.826087</td>\n",
       "    </tr>\n",
       "    <tr>\n",
       "      <th>71</th>\n",
       "      <td>ZAF</td>\n",
       "      <td>70.102041</td>\n",
       "    </tr>\n",
       "  </tbody>\n",
       "</table>\n",
       "<p>72 rows × 2 columns</p>\n",
       "</div>"
      ],
      "text/plain": [
       "   Country  Popularity\n",
       "0      ARE   89.580000\n",
       "1      ARG   82.930233\n",
       "2      AUS   90.551020\n",
       "3      AUT   82.000000\n",
       "4      BEL   85.333333\n",
       "..     ...         ...\n",
       "67     URY   79.395349\n",
       "68     USA   90.632653\n",
       "69     VEN   85.543478\n",
       "70     VNM   77.826087\n",
       "71     ZAF   70.102041\n",
       "\n",
       "[72 rows x 2 columns]"
      ]
     },
     "execution_count": 17,
     "metadata": {},
     "output_type": "execute_result"
    }
   ],
   "source": [
    "country_data\n"
   ]
  },
  {
   "cell_type": "code",
   "execution_count": 23,
   "metadata": {},
   "outputs": [
    {
     "data": {
      "application/vnd.plotly.v1+json": {
       "config": {
        "plotlyServerURL": "https://plot.ly"
       },
       "data": [
        {
         "coloraxis": "coloraxis",
         "geo": "geo",
         "hovertemplate": "Country=%{location}<br>Popularity=%{z}<extra></extra>",
         "locationmode": "ISO-3",
         "locations": [
          "ARE",
          "AUS",
          "AUT",
          "BEL",
          "CAN",
          "CHE",
          "DEU",
          "DNK",
          "EST",
          "GBR",
          "Global",
          "HKG",
          "IDN",
          "IRL",
          "ISL",
          "LTU",
          "LUX",
          "LVA",
          "MYS",
          "NLD",
          "NOR",
          "NZL",
          "PHL",
          "PRT",
          "SAU",
          "SGP",
          "SVK",
          "SWE",
          "THA",
          "TWN",
          "USA"
         ],
         "name": "",
         "type": "choropleth",
         "z": [
          90.5,
          91.875,
          96,
          96,
          91.22222222222223,
          96,
          92.8,
          96,
          94.33333333333333,
          92.42857142857143,
          92.33333333333333,
          96,
          99,
          92.42857142857143,
          99,
          93,
          96,
          96,
          89,
          96,
          96,
          92.8,
          91.14285714285714,
          96,
          96,
          90.11111111111111,
          99,
          96,
          99,
          99,
          90.5
         ]
        }
       ],
       "layout": {
        "coloraxis": {
         "colorbar": {
          "title": {
           "text": "Popularity"
          }
         },
         "colorscale": [
          [
           0,
           "#0d0887"
          ],
          [
           0.1111111111111111,
           "#46039f"
          ],
          [
           0.2222222222222222,
           "#7201a8"
          ],
          [
           0.3333333333333333,
           "#9c179e"
          ],
          [
           0.4444444444444444,
           "#bd3786"
          ],
          [
           0.5555555555555556,
           "#d8576b"
          ],
          [
           0.6666666666666666,
           "#ed7953"
          ],
          [
           0.7777777777777778,
           "#fb9f3a"
          ],
          [
           0.8888888888888888,
           "#fdca26"
          ],
          [
           1,
           "#f0f921"
          ]
         ]
        },
        "geo": {
         "center": {},
         "domain": {
          "x": [
           0,
           1
          ],
          "y": [
           0,
           1
          ]
         }
        },
        "legend": {
         "tracegroupgap": 0
        },
        "margin": {
         "t": 60
        },
        "template": {
         "data": {
          "bar": [
           {
            "error_x": {
             "color": "#2a3f5f"
            },
            "error_y": {
             "color": "#2a3f5f"
            },
            "marker": {
             "line": {
              "color": "#E5ECF6",
              "width": 0.5
             },
             "pattern": {
              "fillmode": "overlay",
              "size": 10,
              "solidity": 0.2
             }
            },
            "type": "bar"
           }
          ],
          "barpolar": [
           {
            "marker": {
             "line": {
              "color": "#E5ECF6",
              "width": 0.5
             },
             "pattern": {
              "fillmode": "overlay",
              "size": 10,
              "solidity": 0.2
             }
            },
            "type": "barpolar"
           }
          ],
          "carpet": [
           {
            "aaxis": {
             "endlinecolor": "#2a3f5f",
             "gridcolor": "white",
             "linecolor": "white",
             "minorgridcolor": "white",
             "startlinecolor": "#2a3f5f"
            },
            "baxis": {
             "endlinecolor": "#2a3f5f",
             "gridcolor": "white",
             "linecolor": "white",
             "minorgridcolor": "white",
             "startlinecolor": "#2a3f5f"
            },
            "type": "carpet"
           }
          ],
          "choropleth": [
           {
            "colorbar": {
             "outlinewidth": 0,
             "ticks": ""
            },
            "type": "choropleth"
           }
          ],
          "contour": [
           {
            "colorbar": {
             "outlinewidth": 0,
             "ticks": ""
            },
            "colorscale": [
             [
              0,
              "#0d0887"
             ],
             [
              0.1111111111111111,
              "#46039f"
             ],
             [
              0.2222222222222222,
              "#7201a8"
             ],
             [
              0.3333333333333333,
              "#9c179e"
             ],
             [
              0.4444444444444444,
              "#bd3786"
             ],
             [
              0.5555555555555556,
              "#d8576b"
             ],
             [
              0.6666666666666666,
              "#ed7953"
             ],
             [
              0.7777777777777778,
              "#fb9f3a"
             ],
             [
              0.8888888888888888,
              "#fdca26"
             ],
             [
              1,
              "#f0f921"
             ]
            ],
            "type": "contour"
           }
          ],
          "contourcarpet": [
           {
            "colorbar": {
             "outlinewidth": 0,
             "ticks": ""
            },
            "type": "contourcarpet"
           }
          ],
          "heatmap": [
           {
            "colorbar": {
             "outlinewidth": 0,
             "ticks": ""
            },
            "colorscale": [
             [
              0,
              "#0d0887"
             ],
             [
              0.1111111111111111,
              "#46039f"
             ],
             [
              0.2222222222222222,
              "#7201a8"
             ],
             [
              0.3333333333333333,
              "#9c179e"
             ],
             [
              0.4444444444444444,
              "#bd3786"
             ],
             [
              0.5555555555555556,
              "#d8576b"
             ],
             [
              0.6666666666666666,
              "#ed7953"
             ],
             [
              0.7777777777777778,
              "#fb9f3a"
             ],
             [
              0.8888888888888888,
              "#fdca26"
             ],
             [
              1,
              "#f0f921"
             ]
            ],
            "type": "heatmap"
           }
          ],
          "heatmapgl": [
           {
            "colorbar": {
             "outlinewidth": 0,
             "ticks": ""
            },
            "colorscale": [
             [
              0,
              "#0d0887"
             ],
             [
              0.1111111111111111,
              "#46039f"
             ],
             [
              0.2222222222222222,
              "#7201a8"
             ],
             [
              0.3333333333333333,
              "#9c179e"
             ],
             [
              0.4444444444444444,
              "#bd3786"
             ],
             [
              0.5555555555555556,
              "#d8576b"
             ],
             [
              0.6666666666666666,
              "#ed7953"
             ],
             [
              0.7777777777777778,
              "#fb9f3a"
             ],
             [
              0.8888888888888888,
              "#fdca26"
             ],
             [
              1,
              "#f0f921"
             ]
            ],
            "type": "heatmapgl"
           }
          ],
          "histogram": [
           {
            "marker": {
             "pattern": {
              "fillmode": "overlay",
              "size": 10,
              "solidity": 0.2
             }
            },
            "type": "histogram"
           }
          ],
          "histogram2d": [
           {
            "colorbar": {
             "outlinewidth": 0,
             "ticks": ""
            },
            "colorscale": [
             [
              0,
              "#0d0887"
             ],
             [
              0.1111111111111111,
              "#46039f"
             ],
             [
              0.2222222222222222,
              "#7201a8"
             ],
             [
              0.3333333333333333,
              "#9c179e"
             ],
             [
              0.4444444444444444,
              "#bd3786"
             ],
             [
              0.5555555555555556,
              "#d8576b"
             ],
             [
              0.6666666666666666,
              "#ed7953"
             ],
             [
              0.7777777777777778,
              "#fb9f3a"
             ],
             [
              0.8888888888888888,
              "#fdca26"
             ],
             [
              1,
              "#f0f921"
             ]
            ],
            "type": "histogram2d"
           }
          ],
          "histogram2dcontour": [
           {
            "colorbar": {
             "outlinewidth": 0,
             "ticks": ""
            },
            "colorscale": [
             [
              0,
              "#0d0887"
             ],
             [
              0.1111111111111111,
              "#46039f"
             ],
             [
              0.2222222222222222,
              "#7201a8"
             ],
             [
              0.3333333333333333,
              "#9c179e"
             ],
             [
              0.4444444444444444,
              "#bd3786"
             ],
             [
              0.5555555555555556,
              "#d8576b"
             ],
             [
              0.6666666666666666,
              "#ed7953"
             ],
             [
              0.7777777777777778,
              "#fb9f3a"
             ],
             [
              0.8888888888888888,
              "#fdca26"
             ],
             [
              1,
              "#f0f921"
             ]
            ],
            "type": "histogram2dcontour"
           }
          ],
          "mesh3d": [
           {
            "colorbar": {
             "outlinewidth": 0,
             "ticks": ""
            },
            "type": "mesh3d"
           }
          ],
          "parcoords": [
           {
            "line": {
             "colorbar": {
              "outlinewidth": 0,
              "ticks": ""
             }
            },
            "type": "parcoords"
           }
          ],
          "pie": [
           {
            "automargin": true,
            "type": "pie"
           }
          ],
          "scatter": [
           {
            "fillpattern": {
             "fillmode": "overlay",
             "size": 10,
             "solidity": 0.2
            },
            "type": "scatter"
           }
          ],
          "scatter3d": [
           {
            "line": {
             "colorbar": {
              "outlinewidth": 0,
              "ticks": ""
             }
            },
            "marker": {
             "colorbar": {
              "outlinewidth": 0,
              "ticks": ""
             }
            },
            "type": "scatter3d"
           }
          ],
          "scattercarpet": [
           {
            "marker": {
             "colorbar": {
              "outlinewidth": 0,
              "ticks": ""
             }
            },
            "type": "scattercarpet"
           }
          ],
          "scattergeo": [
           {
            "marker": {
             "colorbar": {
              "outlinewidth": 0,
              "ticks": ""
             }
            },
            "type": "scattergeo"
           }
          ],
          "scattergl": [
           {
            "marker": {
             "colorbar": {
              "outlinewidth": 0,
              "ticks": ""
             }
            },
            "type": "scattergl"
           }
          ],
          "scattermapbox": [
           {
            "marker": {
             "colorbar": {
              "outlinewidth": 0,
              "ticks": ""
             }
            },
            "type": "scattermapbox"
           }
          ],
          "scatterpolar": [
           {
            "marker": {
             "colorbar": {
              "outlinewidth": 0,
              "ticks": ""
             }
            },
            "type": "scatterpolar"
           }
          ],
          "scatterpolargl": [
           {
            "marker": {
             "colorbar": {
              "outlinewidth": 0,
              "ticks": ""
             }
            },
            "type": "scatterpolargl"
           }
          ],
          "scatterternary": [
           {
            "marker": {
             "colorbar": {
              "outlinewidth": 0,
              "ticks": ""
             }
            },
            "type": "scatterternary"
           }
          ],
          "surface": [
           {
            "colorbar": {
             "outlinewidth": 0,
             "ticks": ""
            },
            "colorscale": [
             [
              0,
              "#0d0887"
             ],
             [
              0.1111111111111111,
              "#46039f"
             ],
             [
              0.2222222222222222,
              "#7201a8"
             ],
             [
              0.3333333333333333,
              "#9c179e"
             ],
             [
              0.4444444444444444,
              "#bd3786"
             ],
             [
              0.5555555555555556,
              "#d8576b"
             ],
             [
              0.6666666666666666,
              "#ed7953"
             ],
             [
              0.7777777777777778,
              "#fb9f3a"
             ],
             [
              0.8888888888888888,
              "#fdca26"
             ],
             [
              1,
              "#f0f921"
             ]
            ],
            "type": "surface"
           }
          ],
          "table": [
           {
            "cells": {
             "fill": {
              "color": "#EBF0F8"
             },
             "line": {
              "color": "white"
             }
            },
            "header": {
             "fill": {
              "color": "#C8D4E3"
             },
             "line": {
              "color": "white"
             }
            },
            "type": "table"
           }
          ]
         },
         "layout": {
          "annotationdefaults": {
           "arrowcolor": "#2a3f5f",
           "arrowhead": 0,
           "arrowwidth": 1
          },
          "autotypenumbers": "strict",
          "coloraxis": {
           "colorbar": {
            "outlinewidth": 0,
            "ticks": ""
           }
          },
          "colorscale": {
           "diverging": [
            [
             0,
             "#8e0152"
            ],
            [
             0.1,
             "#c51b7d"
            ],
            [
             0.2,
             "#de77ae"
            ],
            [
             0.3,
             "#f1b6da"
            ],
            [
             0.4,
             "#fde0ef"
            ],
            [
             0.5,
             "#f7f7f7"
            ],
            [
             0.6,
             "#e6f5d0"
            ],
            [
             0.7,
             "#b8e186"
            ],
            [
             0.8,
             "#7fbc41"
            ],
            [
             0.9,
             "#4d9221"
            ],
            [
             1,
             "#276419"
            ]
           ],
           "sequential": [
            [
             0,
             "#0d0887"
            ],
            [
             0.1111111111111111,
             "#46039f"
            ],
            [
             0.2222222222222222,
             "#7201a8"
            ],
            [
             0.3333333333333333,
             "#9c179e"
            ],
            [
             0.4444444444444444,
             "#bd3786"
            ],
            [
             0.5555555555555556,
             "#d8576b"
            ],
            [
             0.6666666666666666,
             "#ed7953"
            ],
            [
             0.7777777777777778,
             "#fb9f3a"
            ],
            [
             0.8888888888888888,
             "#fdca26"
            ],
            [
             1,
             "#f0f921"
            ]
           ],
           "sequentialminus": [
            [
             0,
             "#0d0887"
            ],
            [
             0.1111111111111111,
             "#46039f"
            ],
            [
             0.2222222222222222,
             "#7201a8"
            ],
            [
             0.3333333333333333,
             "#9c179e"
            ],
            [
             0.4444444444444444,
             "#bd3786"
            ],
            [
             0.5555555555555556,
             "#d8576b"
            ],
            [
             0.6666666666666666,
             "#ed7953"
            ],
            [
             0.7777777777777778,
             "#fb9f3a"
            ],
            [
             0.8888888888888888,
             "#fdca26"
            ],
            [
             1,
             "#f0f921"
            ]
           ]
          },
          "colorway": [
           "#636efa",
           "#EF553B",
           "#00cc96",
           "#ab63fa",
           "#FFA15A",
           "#19d3f3",
           "#FF6692",
           "#B6E880",
           "#FF97FF",
           "#FECB52"
          ],
          "font": {
           "color": "#2a3f5f"
          },
          "geo": {
           "bgcolor": "white",
           "lakecolor": "white",
           "landcolor": "#E5ECF6",
           "showlakes": true,
           "showland": true,
           "subunitcolor": "white"
          },
          "hoverlabel": {
           "align": "left"
          },
          "hovermode": "closest",
          "mapbox": {
           "style": "light"
          },
          "paper_bgcolor": "white",
          "plot_bgcolor": "#E5ECF6",
          "polar": {
           "angularaxis": {
            "gridcolor": "white",
            "linecolor": "white",
            "ticks": ""
           },
           "bgcolor": "#E5ECF6",
           "radialaxis": {
            "gridcolor": "white",
            "linecolor": "white",
            "ticks": ""
           }
          },
          "scene": {
           "xaxis": {
            "backgroundcolor": "#E5ECF6",
            "gridcolor": "white",
            "gridwidth": 2,
            "linecolor": "white",
            "showbackground": true,
            "ticks": "",
            "zerolinecolor": "white"
           },
           "yaxis": {
            "backgroundcolor": "#E5ECF6",
            "gridcolor": "white",
            "gridwidth": 2,
            "linecolor": "white",
            "showbackground": true,
            "ticks": "",
            "zerolinecolor": "white"
           },
           "zaxis": {
            "backgroundcolor": "#E5ECF6",
            "gridcolor": "white",
            "gridwidth": 2,
            "linecolor": "white",
            "showbackground": true,
            "ticks": "",
            "zerolinecolor": "white"
           }
          },
          "shapedefaults": {
           "line": {
            "color": "#2a3f5f"
           }
          },
          "ternary": {
           "aaxis": {
            "gridcolor": "white",
            "linecolor": "white",
            "ticks": ""
           },
           "baxis": {
            "gridcolor": "white",
            "linecolor": "white",
            "ticks": ""
           },
           "bgcolor": "#E5ECF6",
           "caxis": {
            "gridcolor": "white",
            "linecolor": "white",
            "ticks": ""
           }
          },
          "title": {
           "x": 0.05
          },
          "xaxis": {
           "automargin": true,
           "gridcolor": "white",
           "linecolor": "white",
           "ticks": "",
           "title": {
            "standoff": 15
           },
           "zerolinecolor": "white",
           "zerolinewidth": 2
          },
          "yaxis": {
           "automargin": true,
           "gridcolor": "white",
           "linecolor": "white",
           "ticks": "",
           "title": {
            "standoff": 15
           },
           "zerolinecolor": "white",
           "zerolinewidth": 2
          }
         }
        },
        "title": {
         "text": "Popularity by Country for Taylor Swift"
        }
       }
      }
     },
     "metadata": {},
     "output_type": "display_data"
    }
   ],
   "source": [
    "import plotly.express as px\n",
    "\n",
    "# Assuming 'music' is your dataframe and it has 'Artist', 'Country', and 'Popularity' columns\n",
    "artist_data = music.groupby(['Artist Name', 'Country'])['Popularity'].mean().reset_index()\n",
    "\n",
    "# Now you create a choropleth map for a specific artist\n",
    "specific_artist_data = artist_data[artist_data['Artist Name'] == 'Taylor Swift']\n",
    "\n",
    "fig = px.choropleth(specific_artist_data, \n",
    "                    locations=\"Country\", \n",
    "                    locationmode='ISO-3', \n",
    "                    color=\"Popularity\",\n",
    "                    color_continuous_scale=px.colors.sequential.Plasma)\n",
    "\n",
    "fig.update_layout(title_text='Popularity by Country for Taylor Swift')\n",
    "fig.show()\n"
   ]
  }
 ],
 "metadata": {
  "kernelspec": {
   "display_name": "dev",
   "language": "python",
   "name": "python3"
  },
  "language_info": {
   "codemirror_mode": {
    "name": "ipython",
    "version": 3
   },
   "file_extension": ".py",
   "mimetype": "text/x-python",
   "name": "python",
   "nbconvert_exporter": "python",
   "pygments_lexer": "ipython3",
   "version": "3.10.13"
  }
 },
 "nbformat": 4,
 "nbformat_minor": 2
}
